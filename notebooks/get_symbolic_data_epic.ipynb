{
 "cells": [
  {
   "cell_type": "code",
   "execution_count": 1,
   "metadata": {},
   "outputs": [],
   "source": [
    "import pandas as pd\n",
    "import os\n",
    "import json\n",
    "import numpy as np"
   ]
  },
  {
   "cell_type": "code",
   "execution_count": 2,
   "metadata": {},
   "outputs": [],
   "source": [
    "ASSETS_DIR = \"/media/hdd/usr/edo/egoProcel_mistakes/assets\"\n",
    "DATAFOLDER = \"/home/aleflabo/ego_procedural/OadTR/data/EpicTents/adapted_annotations/mistake_annotations\"\n",
    "ALL_CSV_NAMES = os.listdir(DATAFOLDER)\n",
    "TRAIN_SPLIT = (\n",
    "    \"/home/aleflabo/ego_procedural/OadTR/data/EpicTents/OadTR/data_info_new.json\"\n",
    ")"
   ]
  },
  {
   "cell_type": "code",
   "execution_count": 6,
   "metadata": {},
   "outputs": [],
   "source": [
    "j = json.load(open(TRAIN_SPLIT))\n",
    "CORRECT_PROC = j[\"epic_tents\"][\"train_session_set\"]"
   ]
  },
  {
   "cell_type": "code",
   "execution_count": 7,
   "metadata": {},
   "outputs": [
    {
     "data": {
      "text/plain": [
       "14"
      ]
     },
     "execution_count": 7,
     "metadata": {},
     "output_type": "execute_result"
    }
   ],
   "source": [
    "len(CORRECT_PROC)"
   ]
  },
  {
   "cell_type": "code",
   "execution_count": 8,
   "metadata": {},
   "outputs": [],
   "source": [
    "IDXS_ACTIONS = \"/home/aleflabo/ego_procedural/OadTR/data/EpicTents/OadTR/mapping.txt\"\n",
    "idxs_actions = np.loadtxt(IDXS_ACTIONS, dtype=str)\n",
    "idx2action = {int(idx): action for idx, action in idxs_actions}\n",
    "action2idx = {action: int(idx) for idx, action in idxs_actions}"
   ]
  },
  {
   "cell_type": "code",
   "execution_count": 32,
   "metadata": {},
   "outputs": [],
   "source": [
    "out = {}\n",
    "for csv_name in CORRECT_PROC:\n",
    "    csv_path = os.path.join(DATAFOLDER, f\"{csv_name}.csv\")\n",
    "    df = pd.read_csv(csv_path)\n",
    "\n",
    "    s_num = df[\"action_label\"].values.tolist()\n",
    "    s_alpha = list(map(lambda x: idx2action[x], s_num))\n",
    "\n",
    "    out[csv_name] = {\"alpha\": s_alpha, \"num\": s_num}"
   ]
  },
  {
   "cell_type": "code",
   "execution_count": 33,
   "metadata": {},
   "outputs": [],
   "source": [
    "json.dump(out, open(os.path.join(ASSETS_DIR, \"epictents_context_seqs_train.json\"), \"w\"))"
   ]
  },
  {
   "cell_type": "code",
   "execution_count": 34,
   "metadata": {},
   "outputs": [],
   "source": [
    "def get_prompt(seq):\n",
    "    hist = [-1] + seq[:-1]\n",
    "    next_sym = seq[-1]\n",
    "    prompt = f\"Input Sequence:\\n {', '.join(map(str,hist))}\\n\"\n",
    "    prompt += f\"Next Symbol:\\n {next_sym}\\n---\\n\"\n",
    "    return prompt"
   ]
  },
  {
   "cell_type": "code",
   "execution_count": 36,
   "metadata": {},
   "outputs": [],
   "source": [
    "prompt_num, prompt_alpha = \"\", \"\"\n",
    "for k, v in out.items():\n",
    "    prompt_num += get_prompt(v[\"num\"])\n",
    "    prompt_alpha += get_prompt(v[\"alpha\"])\n",
    "out_context = {\"num\": prompt_num, \"alpha\": prompt_alpha}"
   ]
  },
  {
   "cell_type": "code",
   "execution_count": 39,
   "metadata": {},
   "outputs": [],
   "source": [
    "json.dump(\n",
    "    out_context,\n",
    "    open(os.path.join(ASSETS_DIR, \"epictents_context_prompt_train.json\"), \"w\"),\n",
    ")"
   ]
  },
  {
   "cell_type": "code",
   "execution_count": null,
   "metadata": {},
   "outputs": [],
   "source": []
  }
 ],
 "metadata": {
  "kernelspec": {
   "display_name": "epic",
   "language": "python",
   "name": "python3"
  },
  "language_info": {
   "codemirror_mode": {
    "name": "ipython",
    "version": 3
   },
   "file_extension": ".py",
   "mimetype": "text/x-python",
   "name": "python",
   "nbconvert_exporter": "python",
   "pygments_lexer": "ipython3",
   "version": "3.9.16"
  }
 },
 "nbformat": 4,
 "nbformat_minor": 2
}
