{
 "cells": [
  {
   "cell_type": "code",
   "execution_count": 1,
   "metadata": {},
   "outputs": [],
   "source": [
    "from pathlib import Path\n",
    "import numpy as np\n",
    "import pandas as pd"
   ]
  },
  {
   "cell_type": "code",
   "execution_count": 2,
   "metadata": {},
   "outputs": [],
   "source": [
    "annotations_dir = Path(\"/media/hdd/data/assembly101/data/annotations/\")"
   ]
  },
  {
   "cell_type": "markdown",
   "metadata": {},
   "source": [
    "## Coarse-grained"
   ]
  },
  {
   "cell_type": "code",
   "execution_count": 3,
   "metadata": {},
   "outputs": [],
   "source": [
    "coarse_dir = annotations_dir / \"coarse-annotations\"\n",
    "\n",
    "labels_dir = coarse_dir / \"coarse_labels\"\n",
    "splits_dir = coarse_dir / \"coarse_splits\"\n",
    "\n",
    "actions_file = coarse_dir / \"actions.csv\"\n",
    "coarse_seq_views = coarse_dir / \"coarse_seq_views.txt\"\n",
    "tail_actions = coarse_dir / \"tail_actions.txt\""
   ]
  },
  {
   "cell_type": "markdown",
   "metadata": {},
   "source": [
    "### Actions"
   ]
  },
  {
   "cell_type": "code",
   "execution_count": 4,
   "metadata": {},
   "outputs": [
    {
     "name": "stdout",
     "output_type": "stream",
     "text": [
      "there are (202,) unique actions\n"
     ]
    },
    {
     "data": {
      "text/html": [
       "<div>\n",
       "<style scoped>\n",
       "    .dataframe tbody tr th:only-of-type {\n",
       "        vertical-align: middle;\n",
       "    }\n",
       "\n",
       "    .dataframe tbody tr th {\n",
       "        vertical-align: top;\n",
       "    }\n",
       "\n",
       "    .dataframe thead th {\n",
       "        text-align: right;\n",
       "    }\n",
       "</style>\n",
       "<table border=\"1\" class=\"dataframe\">\n",
       "  <thead>\n",
       "    <tr style=\"text-align: right;\">\n",
       "      <th></th>\n",
       "      <th>action_id</th>\n",
       "      <th>verb_id</th>\n",
       "      <th>noun_id</th>\n",
       "      <th>action_cls</th>\n",
       "      <th>verb_cls</th>\n",
       "      <th>noun_cls</th>\n",
       "    </tr>\n",
       "  </thead>\n",
       "  <tbody>\n",
       "    <tr>\n",
       "      <th>0</th>\n",
       "      <td>0</td>\n",
       "      <td>2</td>\n",
       "      <td>4</td>\n",
       "      <td>inspect toy</td>\n",
       "      <td>inspect</td>\n",
       "      <td>toy</td>\n",
       "    </tr>\n",
       "    <tr>\n",
       "      <th>1</th>\n",
       "      <td>1</td>\n",
       "      <td>0</td>\n",
       "      <td>0</td>\n",
       "      <td>attach cabin</td>\n",
       "      <td>attach</td>\n",
       "      <td>cabin</td>\n",
       "    </tr>\n",
       "    <tr>\n",
       "      <th>2</th>\n",
       "      <td>2</td>\n",
       "      <td>1</td>\n",
       "      <td>0</td>\n",
       "      <td>detach cabin</td>\n",
       "      <td>detach</td>\n",
       "      <td>cabin</td>\n",
       "    </tr>\n",
       "    <tr>\n",
       "      <th>3</th>\n",
       "      <td>3</td>\n",
       "      <td>1</td>\n",
       "      <td>3</td>\n",
       "      <td>detach wheel</td>\n",
       "      <td>detach</td>\n",
       "      <td>wheel</td>\n",
       "    </tr>\n",
       "    <tr>\n",
       "      <th>4</th>\n",
       "      <td>4</td>\n",
       "      <td>0</td>\n",
       "      <td>3</td>\n",
       "      <td>attach wheel</td>\n",
       "      <td>attach</td>\n",
       "      <td>wheel</td>\n",
       "    </tr>\n",
       "  </tbody>\n",
       "</table>\n",
       "</div>"
      ],
      "text/plain": [
       "   action_id  verb_id  noun_id    action_cls verb_cls noun_cls\n",
       "0          0        2        4   inspect toy  inspect      toy\n",
       "1          1        0        0  attach cabin   attach    cabin\n",
       "2          2        1        0  detach cabin   detach    cabin\n",
       "3          3        1        3  detach wheel   detach    wheel\n",
       "4          4        0        3  attach wheel   attach    wheel"
      ]
     },
     "execution_count": 4,
     "metadata": {},
     "output_type": "execute_result"
    }
   ],
   "source": [
    "actions_df = pd.read_csv(actions_file)\n",
    "actions_coarse = actions_df[\"action_cls\"].unique()\n",
    "print(f\"there are {actions_coarse.shape} unique actions\")\n",
    "actions_df.head()"
   ]
  },
  {
   "cell_type": "markdown",
   "metadata": {},
   "source": [
    "### Coarse splits"
   ]
  },
  {
   "cell_type": "code",
   "execution_count": null,
   "metadata": {},
   "outputs": [],
   "source": [
    "splits = [\"train\", \"validation\"]\n",
    "actions = [\"assembly\", \"disassembly\"]\n",
    "\n",
    "splits_files = [\n",
    "    f\"{splits_dir}/{split}_coarse_{action}.txt\"\n",
    "    for split in splits\n",
    "    for action in actions\n",
    "]"
   ]
  },
  {
   "cell_type": "code",
   "execution_count": null,
   "metadata": {},
   "outputs": [],
   "source": [
    "# ! they have two \\t\\t for the first field, then one \\t and a trailing \\n\n",
    "splits_df = pd.read_csv(splits_files[0], sep=\"\\t\", header=None)\n",
    "splits_df.drop(splits_df.columns[[1]], axis=1, inplace=True)\n",
    "splits_df"
   ]
  },
  {
   "cell_type": "code",
   "execution_count": null,
   "metadata": {},
   "outputs": [],
   "source": [
    "actions = [\"assembly\", \"disassembly\"]\n",
    "test_splits_files = [f\"{splits_dir}/test_coarse_{action}.txt\" for action in actions]"
   ]
  },
  {
   "cell_type": "code",
   "execution_count": null,
   "metadata": {},
   "outputs": [],
   "source": [
    "test_splits_df = pd.read_csv(test_splits_files[0], sep=\"\\t\\t\", header=None)\n",
    "test_splits_df"
   ]
  },
  {
   "cell_type": "markdown",
   "metadata": {},
   "source": [
    "## Fine-grained"
   ]
  },
  {
   "cell_type": "code",
   "execution_count": 5,
   "metadata": {},
   "outputs": [],
   "source": [
    "fine_dir = annotations_dir / \"fine-grained-annotations\"\n",
    "actions_file = fine_dir / \"actions.csv\"\n",
    "actions_train_file = fine_dir / \"train.csv\"\n",
    "actions_val_file = fine_dir / \"validation.csv\"\n",
    "actions_test_file = fine_dir / \"test.csv\""
   ]
  },
  {
   "cell_type": "markdown",
   "metadata": {},
   "source": [
    "### Actions"
   ]
  },
  {
   "cell_type": "code",
   "execution_count": 6,
   "metadata": {},
   "outputs": [
    {
     "name": "stdout",
     "output_type": "stream",
     "text": [
      "there are (1380,) unique actions\n"
     ]
    },
    {
     "data": {
      "text/html": [
       "<div>\n",
       "<style scoped>\n",
       "    .dataframe tbody tr th:only-of-type {\n",
       "        vertical-align: middle;\n",
       "    }\n",
       "\n",
       "    .dataframe tbody tr th {\n",
       "        vertical-align: top;\n",
       "    }\n",
       "\n",
       "    .dataframe thead th {\n",
       "        text-align: right;\n",
       "    }\n",
       "</style>\n",
       "<table border=\"1\" class=\"dataframe\">\n",
       "  <thead>\n",
       "    <tr style=\"text-align: right;\">\n",
       "      <th></th>\n",
       "      <th>id</th>\n",
       "      <th>action_id</th>\n",
       "      <th>verb_id</th>\n",
       "      <th>noun_id</th>\n",
       "      <th>action_cls</th>\n",
       "      <th>verb_cls</th>\n",
       "      <th>noun_cls</th>\n",
       "    </tr>\n",
       "  </thead>\n",
       "  <tbody>\n",
       "    <tr>\n",
       "      <th>0</th>\n",
       "      <td>0</td>\n",
       "      <td>10</td>\n",
       "      <td>18</td>\n",
       "      <td>27</td>\n",
       "      <td>clap hand</td>\n",
       "      <td>clap</td>\n",
       "      <td>hand</td>\n",
       "    </tr>\n",
       "    <tr>\n",
       "      <th>1</th>\n",
       "      <td>1</td>\n",
       "      <td>3</td>\n",
       "      <td>0</td>\n",
       "      <td>2</td>\n",
       "      <td>pick up screwdriver</td>\n",
       "      <td>pick up</td>\n",
       "      <td>screwdriver</td>\n",
       "    </tr>\n",
       "    <tr>\n",
       "      <th>2</th>\n",
       "      <td>2</td>\n",
       "      <td>19</td>\n",
       "      <td>0</td>\n",
       "      <td>5</td>\n",
       "      <td>pick up finished toy</td>\n",
       "      <td>pick up</td>\n",
       "      <td>finished toy</td>\n",
       "    </tr>\n",
       "    <tr>\n",
       "      <th>3</th>\n",
       "      <td>3</td>\n",
       "      <td>182</td>\n",
       "      <td>4</td>\n",
       "      <td>26</td>\n",
       "      <td>unscrew track with screwdriver</td>\n",
       "      <td>unscrew</td>\n",
       "      <td>track</td>\n",
       "    </tr>\n",
       "    <tr>\n",
       "      <th>4</th>\n",
       "      <td>4</td>\n",
       "      <td>281</td>\n",
       "      <td>9</td>\n",
       "      <td>26</td>\n",
       "      <td>remove screw from track</td>\n",
       "      <td>remove screw from</td>\n",
       "      <td>track</td>\n",
       "    </tr>\n",
       "  </tbody>\n",
       "</table>\n",
       "</div>"
      ],
      "text/plain": [
       "   id  action_id  verb_id  noun_id                      action_cls  \\\n",
       "0   0         10       18       27                       clap hand   \n",
       "1   1          3        0        2             pick up screwdriver   \n",
       "2   2         19        0        5            pick up finished toy   \n",
       "3   3        182        4       26  unscrew track with screwdriver   \n",
       "4   4        281        9       26         remove screw from track   \n",
       "\n",
       "            verb_cls      noun_cls  \n",
       "0               clap          hand  \n",
       "1            pick up   screwdriver  \n",
       "2            pick up  finished toy  \n",
       "3            unscrew         track  \n",
       "4  remove screw from         track  "
      ]
     },
     "execution_count": 6,
     "metadata": {},
     "output_type": "execute_result"
    }
   ],
   "source": [
    "actions_df = pd.read_csv(actions_file)\n",
    "actions_fine = actions_df[\"action_cls\"].unique()\n",
    "print(f\"there are {actions_fine.shape} unique actions\")\n",
    "actions_df.head()"
   ]
  },
  {
   "cell_type": "markdown",
   "metadata": {},
   "source": [
    "#### Train"
   ]
  },
  {
   "cell_type": "code",
   "execution_count": 7,
   "metadata": {},
   "outputs": [
    {
     "name": "stdout",
     "output_type": "stream",
     "text": [
      "there are (1244,) unique actions\n"
     ]
    },
    {
     "data": {
      "text/html": [
       "<div>\n",
       "<style scoped>\n",
       "    .dataframe tbody tr th:only-of-type {\n",
       "        vertical-align: middle;\n",
       "    }\n",
       "\n",
       "    .dataframe tbody tr th {\n",
       "        vertical-align: top;\n",
       "    }\n",
       "\n",
       "    .dataframe thead th {\n",
       "        text-align: right;\n",
       "    }\n",
       "</style>\n",
       "<table border=\"1\" class=\"dataframe\">\n",
       "  <thead>\n",
       "    <tr style=\"text-align: right;\">\n",
       "      <th></th>\n",
       "      <th>id</th>\n",
       "      <th>video</th>\n",
       "      <th>start_frame</th>\n",
       "      <th>end_frame</th>\n",
       "      <th>action_id</th>\n",
       "      <th>verb_id</th>\n",
       "      <th>noun_id</th>\n",
       "      <th>action_cls</th>\n",
       "      <th>verb_cls</th>\n",
       "      <th>noun_cls</th>\n",
       "      <th>toy_id</th>\n",
       "      <th>toy_name</th>\n",
       "      <th>is_shared</th>\n",
       "      <th>is_RGB</th>\n",
       "    </tr>\n",
       "  </thead>\n",
       "  <tbody>\n",
       "    <tr>\n",
       "      <th>0</th>\n",
       "      <td>0</td>\n",
       "      <td>nusar-2021_action_both_9011-b06b_9011_user_id_...</td>\n",
       "      <td>135</td>\n",
       "      <td>168</td>\n",
       "      <td>10</td>\n",
       "      <td>18</td>\n",
       "      <td>27</td>\n",
       "      <td>clap hand</td>\n",
       "      <td>clap</td>\n",
       "      <td>hand</td>\n",
       "      <td>b06b</td>\n",
       "      <td>-</td>\n",
       "      <td>0</td>\n",
       "      <td>1</td>\n",
       "    </tr>\n",
       "    <tr>\n",
       "      <th>1</th>\n",
       "      <td>1</td>\n",
       "      <td>nusar-2021_action_both_9011-b06b_9011_user_id_...</td>\n",
       "      <td>135</td>\n",
       "      <td>168</td>\n",
       "      <td>10</td>\n",
       "      <td>18</td>\n",
       "      <td>27</td>\n",
       "      <td>clap hand</td>\n",
       "      <td>clap</td>\n",
       "      <td>hand</td>\n",
       "      <td>b06b</td>\n",
       "      <td>-</td>\n",
       "      <td>0</td>\n",
       "      <td>1</td>\n",
       "    </tr>\n",
       "    <tr>\n",
       "      <th>2</th>\n",
       "      <td>2</td>\n",
       "      <td>nusar-2021_action_both_9011-b06b_9011_user_id_...</td>\n",
       "      <td>135</td>\n",
       "      <td>168</td>\n",
       "      <td>10</td>\n",
       "      <td>18</td>\n",
       "      <td>27</td>\n",
       "      <td>clap hand</td>\n",
       "      <td>clap</td>\n",
       "      <td>hand</td>\n",
       "      <td>b06b</td>\n",
       "      <td>-</td>\n",
       "      <td>0</td>\n",
       "      <td>1</td>\n",
       "    </tr>\n",
       "    <tr>\n",
       "      <th>3</th>\n",
       "      <td>3</td>\n",
       "      <td>nusar-2021_action_both_9011-b06b_9011_user_id_...</td>\n",
       "      <td>135</td>\n",
       "      <td>168</td>\n",
       "      <td>10</td>\n",
       "      <td>18</td>\n",
       "      <td>27</td>\n",
       "      <td>clap hand</td>\n",
       "      <td>clap</td>\n",
       "      <td>hand</td>\n",
       "      <td>b06b</td>\n",
       "      <td>-</td>\n",
       "      <td>0</td>\n",
       "      <td>1</td>\n",
       "    </tr>\n",
       "    <tr>\n",
       "      <th>4</th>\n",
       "      <td>4</td>\n",
       "      <td>nusar-2021_action_both_9011-b06b_9011_user_id_...</td>\n",
       "      <td>135</td>\n",
       "      <td>168</td>\n",
       "      <td>10</td>\n",
       "      <td>18</td>\n",
       "      <td>27</td>\n",
       "      <td>clap hand</td>\n",
       "      <td>clap</td>\n",
       "      <td>hand</td>\n",
       "      <td>b06b</td>\n",
       "      <td>-</td>\n",
       "      <td>0</td>\n",
       "      <td>1</td>\n",
       "    </tr>\n",
       "  </tbody>\n",
       "</table>\n",
       "</div>"
      ],
      "text/plain": [
       "   id                                              video  start_frame  \\\n",
       "0   0  nusar-2021_action_both_9011-b06b_9011_user_id_...          135   \n",
       "1   1  nusar-2021_action_both_9011-b06b_9011_user_id_...          135   \n",
       "2   2  nusar-2021_action_both_9011-b06b_9011_user_id_...          135   \n",
       "3   3  nusar-2021_action_both_9011-b06b_9011_user_id_...          135   \n",
       "4   4  nusar-2021_action_both_9011-b06b_9011_user_id_...          135   \n",
       "\n",
       "   end_frame  action_id  verb_id  noun_id action_cls verb_cls noun_cls toy_id  \\\n",
       "0        168         10       18       27  clap hand     clap     hand   b06b   \n",
       "1        168         10       18       27  clap hand     clap     hand   b06b   \n",
       "2        168         10       18       27  clap hand     clap     hand   b06b   \n",
       "3        168         10       18       27  clap hand     clap     hand   b06b   \n",
       "4        168         10       18       27  clap hand     clap     hand   b06b   \n",
       "\n",
       "  toy_name  is_shared  is_RGB  \n",
       "0        -          0       1  \n",
       "1        -          0       1  \n",
       "2        -          0       1  \n",
       "3        -          0       1  \n",
       "4        -          0       1  "
      ]
     },
     "execution_count": 7,
     "metadata": {},
     "output_type": "execute_result"
    }
   ],
   "source": [
    "actions_train_df = pd.read_csv(actions_train_file)\n",
    "actions_train_fine = actions_train_df[\"action_cls\"].unique()\n",
    "print(f\"there are {actions_train_fine.shape} unique actions\")\n",
    "actions_train_df.head()"
   ]
  },
  {
   "cell_type": "markdown",
   "metadata": {},
   "source": [
    "#### Validation"
   ]
  },
  {
   "cell_type": "code",
   "execution_count": 8,
   "metadata": {},
   "outputs": [
    {
     "name": "stdout",
     "output_type": "stream",
     "text": [
      "there are (1018,) unique actions\n"
     ]
    },
    {
     "data": {
      "text/html": [
       "<div>\n",
       "<style scoped>\n",
       "    .dataframe tbody tr th:only-of-type {\n",
       "        vertical-align: middle;\n",
       "    }\n",
       "\n",
       "    .dataframe tbody tr th {\n",
       "        vertical-align: top;\n",
       "    }\n",
       "\n",
       "    .dataframe thead th {\n",
       "        text-align: right;\n",
       "    }\n",
       "</style>\n",
       "<table border=\"1\" class=\"dataframe\">\n",
       "  <thead>\n",
       "    <tr style=\"text-align: right;\">\n",
       "      <th></th>\n",
       "      <th>id</th>\n",
       "      <th>video</th>\n",
       "      <th>start_frame</th>\n",
       "      <th>end_frame</th>\n",
       "      <th>action_id</th>\n",
       "      <th>verb_id</th>\n",
       "      <th>noun_id</th>\n",
       "      <th>action_cls</th>\n",
       "      <th>verb_cls</th>\n",
       "      <th>noun_cls</th>\n",
       "      <th>toy_id</th>\n",
       "      <th>toy_name</th>\n",
       "      <th>is_shared</th>\n",
       "      <th>is_RGB</th>\n",
       "    </tr>\n",
       "  </thead>\n",
       "  <tbody>\n",
       "    <tr>\n",
       "      <th>0</th>\n",
       "      <td>0</td>\n",
       "      <td>nusar-2021_action_both_9033-a30_9033_user_id_2...</td>\n",
       "      <td>84</td>\n",
       "      <td>111</td>\n",
       "      <td>10</td>\n",
       "      <td>18</td>\n",
       "      <td>27</td>\n",
       "      <td>clap hand</td>\n",
       "      <td>clap</td>\n",
       "      <td>hand</td>\n",
       "      <td>a30</td>\n",
       "      <td>suv</td>\n",
       "      <td>0</td>\n",
       "      <td>1</td>\n",
       "    </tr>\n",
       "    <tr>\n",
       "      <th>1</th>\n",
       "      <td>1</td>\n",
       "      <td>nusar-2021_action_both_9033-a30_9033_user_id_2...</td>\n",
       "      <td>84</td>\n",
       "      <td>111</td>\n",
       "      <td>10</td>\n",
       "      <td>18</td>\n",
       "      <td>27</td>\n",
       "      <td>clap hand</td>\n",
       "      <td>clap</td>\n",
       "      <td>hand</td>\n",
       "      <td>a30</td>\n",
       "      <td>suv</td>\n",
       "      <td>0</td>\n",
       "      <td>1</td>\n",
       "    </tr>\n",
       "    <tr>\n",
       "      <th>2</th>\n",
       "      <td>2</td>\n",
       "      <td>nusar-2021_action_both_9033-a30_9033_user_id_2...</td>\n",
       "      <td>84</td>\n",
       "      <td>111</td>\n",
       "      <td>10</td>\n",
       "      <td>18</td>\n",
       "      <td>27</td>\n",
       "      <td>clap hand</td>\n",
       "      <td>clap</td>\n",
       "      <td>hand</td>\n",
       "      <td>a30</td>\n",
       "      <td>suv</td>\n",
       "      <td>0</td>\n",
       "      <td>1</td>\n",
       "    </tr>\n",
       "    <tr>\n",
       "      <th>3</th>\n",
       "      <td>3</td>\n",
       "      <td>nusar-2021_action_both_9033-a30_9033_user_id_2...</td>\n",
       "      <td>84</td>\n",
       "      <td>111</td>\n",
       "      <td>10</td>\n",
       "      <td>18</td>\n",
       "      <td>27</td>\n",
       "      <td>clap hand</td>\n",
       "      <td>clap</td>\n",
       "      <td>hand</td>\n",
       "      <td>a30</td>\n",
       "      <td>suv</td>\n",
       "      <td>0</td>\n",
       "      <td>1</td>\n",
       "    </tr>\n",
       "    <tr>\n",
       "      <th>4</th>\n",
       "      <td>4</td>\n",
       "      <td>nusar-2021_action_both_9033-a30_9033_user_id_2...</td>\n",
       "      <td>84</td>\n",
       "      <td>111</td>\n",
       "      <td>10</td>\n",
       "      <td>18</td>\n",
       "      <td>27</td>\n",
       "      <td>clap hand</td>\n",
       "      <td>clap</td>\n",
       "      <td>hand</td>\n",
       "      <td>a30</td>\n",
       "      <td>suv</td>\n",
       "      <td>0</td>\n",
       "      <td>1</td>\n",
       "    </tr>\n",
       "  </tbody>\n",
       "</table>\n",
       "</div>"
      ],
      "text/plain": [
       "   id                                              video  start_frame  \\\n",
       "0   0  nusar-2021_action_both_9033-a30_9033_user_id_2...           84   \n",
       "1   1  nusar-2021_action_both_9033-a30_9033_user_id_2...           84   \n",
       "2   2  nusar-2021_action_both_9033-a30_9033_user_id_2...           84   \n",
       "3   3  nusar-2021_action_both_9033-a30_9033_user_id_2...           84   \n",
       "4   4  nusar-2021_action_both_9033-a30_9033_user_id_2...           84   \n",
       "\n",
       "   end_frame  action_id  verb_id  noun_id action_cls verb_cls noun_cls toy_id  \\\n",
       "0        111         10       18       27  clap hand     clap     hand    a30   \n",
       "1        111         10       18       27  clap hand     clap     hand    a30   \n",
       "2        111         10       18       27  clap hand     clap     hand    a30   \n",
       "3        111         10       18       27  clap hand     clap     hand    a30   \n",
       "4        111         10       18       27  clap hand     clap     hand    a30   \n",
       "\n",
       "  toy_name  is_shared  is_RGB  \n",
       "0      suv          0       1  \n",
       "1      suv          0       1  \n",
       "2      suv          0       1  \n",
       "3      suv          0       1  \n",
       "4      suv          0       1  "
      ]
     },
     "execution_count": 8,
     "metadata": {},
     "output_type": "execute_result"
    }
   ],
   "source": [
    "actions_val_df = pd.read_csv(actions_val_file)\n",
    "actions_val_fine = actions_val_df[\"action_cls\"].unique()\n",
    "print(f\"there are {actions_val_fine.shape} unique actions\")\n",
    "actions_val_df.head()"
   ]
  },
  {
   "cell_type": "markdown",
   "metadata": {},
   "source": [
    "#### Test"
   ]
  },
  {
   "cell_type": "markdown",
   "metadata": {},
   "source": [
    "The labels are missing to make it a challenge."
   ]
  },
  {
   "cell_type": "markdown",
   "metadata": {},
   "source": [
    "#### Comparison"
   ]
  },
  {
   "cell_type": "code",
   "execution_count": 12,
   "metadata": {},
   "outputs": [],
   "source": [
    "actions = np.concatenate([actions_train_fine, actions_val_fine])"
   ]
  },
  {
   "cell_type": "code",
   "execution_count": 17,
   "metadata": {},
   "outputs": [
    {
     "data": {
      "text/plain": [
       "(1380, 1345)"
      ]
     },
     "execution_count": 17,
     "metadata": {},
     "output_type": "execute_result"
    }
   ],
   "source": [
    "len(actions_fine), len(set(actions))"
   ]
  },
  {
   "cell_type": "markdown",
   "metadata": {},
   "source": [
    "`actions.csv` contains more actions than `actions_train.csv` and `actions_test.csv`.\n",
    "Most likely there are unseen actions in the test set."
   ]
  },
  {
   "cell_type": "code",
   "execution_count": null,
   "metadata": {},
   "outputs": [],
   "source": []
  }
 ],
 "metadata": {
  "kernelspec": {
   "display_name": "epic",
   "language": "python",
   "name": "python3"
  },
  "language_info": {
   "codemirror_mode": {
    "name": "ipython",
    "version": 3
   },
   "file_extension": ".py",
   "mimetype": "text/x-python",
   "name": "python",
   "nbconvert_exporter": "python",
   "pygments_lexer": "ipython3",
   "version": "3.9.16"
  },
  "orig_nbformat": 4
 },
 "nbformat": 4,
 "nbformat_minor": 2
}
