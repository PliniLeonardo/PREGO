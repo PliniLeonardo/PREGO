{
 "cells": [
  {
   "cell_type": "code",
   "execution_count": null,
   "metadata": {},
   "outputs": [],
   "source": [
    "import pandas as pd\n",
    "import os\n",
    "import json\n",
    "import pickle\n",
    "import numpy as np"
   ]
  },
  {
   "cell_type": "code",
   "execution_count": null,
   "metadata": {},
   "outputs": [],
   "source": [
    "idx2emoji = \"/media/hdd/usr/edo/egoProcel_mistakes/assets/emoji.txt\"\n",
    "idx2emoji = np.loadtxt(idx2emoji, dtype=str)"
   ]
  },
  {
   "cell_type": "code",
   "execution_count": null,
   "metadata": {},
   "outputs": [],
   "source": [
    "for _, e in idx2emoji:\n",
    "    u = e.encode(\"unicode-escape\").decode(\"utf-8\")\n",
    "    e_ = u.encode(\"utf-8\").decode(\"unicode-escape\")\n",
    "    print(e, u, e_)"
   ]
  },
  {
   "cell_type": "code",
   "execution_count": 15,
   "metadata": {},
   "outputs": [],
   "source": [
    "idx2emoji_d = {\n",
    "    int(i): {\"utf-8\": e.encode(\"unicode-escape\").decode(\"utf-8\"), \"escape\": e}\n",
    "    for i, e in idx2emoji\n",
    "}"
   ]
  },
  {
   "cell_type": "code",
   "execution_count": 17,
   "metadata": {},
   "outputs": [],
   "source": [
    "json.dump(idx2emoji_d, open(\"idx2emoji.json\", \"w\"))"
   ]
  },
  {
   "cell_type": "code",
   "execution_count": null,
   "metadata": {},
   "outputs": [],
   "source": [
    "for k, v in idx2emoji_d.items():\n",
    "    print(k, v[\"utf-8\"], v[\"escape\"])"
   ]
  }
 ],
 "metadata": {
  "kernelspec": {
   "display_name": "epic",
   "language": "python",
   "name": "python3"
  },
  "language_info": {
   "codemirror_mode": {
    "name": "ipython",
    "version": 3
   },
   "file_extension": ".py",
   "mimetype": "text/x-python",
   "name": "python",
   "nbconvert_exporter": "python",
   "pygments_lexer": "ipython3",
   "version": "3.9.16"
  }
 },
 "nbformat": 4,
 "nbformat_minor": 2
}
