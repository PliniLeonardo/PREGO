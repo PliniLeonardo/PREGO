{
 "cells": [
  {
   "cell_type": "code",
   "execution_count": 1,
   "metadata": {},
   "outputs": [],
   "source": [
    "import json\n",
    "import numpy as np"
   ]
  },
  {
   "cell_type": "code",
   "execution_count": 9,
   "metadata": {},
   "outputs": [],
   "source": [
    "path = \"/media/hdd/usr/edo/egoProcel_mistakes/assets/toys.txt\""
   ]
  },
  {
   "cell_type": "code",
   "execution_count": 10,
   "metadata": {},
   "outputs": [],
   "source": [
    "f = np.loadtxt(path, dtype=str)"
   ]
  },
  {
   "cell_type": "code",
   "execution_count": 11,
   "metadata": {},
   "outputs": [],
   "source": [
    "f1 = f[:, 1:]"
   ]
  },
  {
   "cell_type": "code",
   "execution_count": 13,
   "metadata": {},
   "outputs": [],
   "source": [
    "# invert the first and second column\n",
    "f2 = np.concatenate((f1[:, 1:], f1[:, 0].reshape(-1, 1)), axis=1)"
   ]
  },
  {
   "cell_type": "code",
   "execution_count": 17,
   "metadata": {},
   "outputs": [
    {
     "name": "stdout",
     "output_type": "stream",
     "text": [
      "excavator a01\n",
      "bulldozer a02\n",
      "bulldozer a03\n",
      "clamp a06\n",
      "bulldozer a07\n",
      "crane a08\n",
      "clamp a09\n",
      "garbage_truck a10\n",
      "bulldozer a11\n",
      "dumper a12\n",
      "dumper a13\n",
      "transporter a14\n",
      "garbage_truck a15\n",
      "ladder_truck a16\n",
      "fire_truck a17\n",
      "fire_truck a18\n",
      "ladder_truck a19\n",
      "fire_truck a20\n",
      "dumper a21\n",
      "car a23\n",
      "car a24\n",
      "car a26\n",
      "suv a27\n",
      "suv a28\n",
      "suv a29\n",
      "suv a30\n",
      "car a31\n",
      "bulldozer b01a\n",
      "roller b01b\n",
      "dumper b02a\n",
      "clamp b02b\n",
      "ladder_truck b03a\n",
      "fire_truck b03b\n",
      "excavator b04a\n",
      "bulldozer b04b\n",
      "jackhammer b04c\n",
      "roller b04d\n",
      "excavator b05a\n",
      "crane b05b\n",
      "cement_mixer b05c\n",
      "dumper b05d\n",
      "dumper b06a\n",
      "crane b06b\n",
      "excavator b06c\n",
      "cement_mixer b06d\n",
      "clamp b08a\n",
      "bulldozer b08b\n",
      "bulldozer b08c\n",
      "dumper b08d\n",
      "excavator c01a\n",
      "dumper c01b\n",
      "crane c01c\n",
      "cement_mixer c01d\n",
      "excavator c02a\n",
      "bulldozer c02b\n",
      "roller c02c\n",
      "excavator c03a\n",
      "bulldozer c03b\n",
      "cement_mixer c03c\n",
      "dumper c03d\n",
      "jackhammer c03e\n",
      "roller c03f\n",
      "excavator c04a\n",
      "jackhammer c04b\n",
      "roller c04c\n",
      "excavator c04d\n",
      "excavator c05a\n",
      "bulldozer c05b\n",
      "dumper c06a\n",
      "cement_mixer c06b\n",
      "crane c06c\n",
      "water_tanker c06d\n",
      "excavator c06e\n",
      "ladder_truck c06f\n",
      "excavator c07a\n",
      "ladder_truck c07b\n",
      "garbage_truck c07c\n",
      "crane c08a\n",
      "garbage_truck c08b\n",
      "transporter c08c\n",
      "dumper c09a\n",
      "water_tanker c09b\n",
      "transporter c09c\n",
      "garbage_truck c10a\n",
      "dumper c10b\n",
      "water_tanker c10c\n",
      "car c11a\n",
      "suv c11b\n",
      "crane c12a\n",
      "water_tanker c12b\n",
      "excavator c12c\n",
      "ladder_truck c12d\n",
      "dumper c12e\n",
      "roller c13a\n",
      "jackhammer c13b\n",
      "excavator c13c\n",
      "bulldozer c13d\n",
      "dumper c13e\n",
      "water_tanker c13f\n",
      "excavator c14a\n",
      "clamp c14b\n"
     ]
    }
   ],
   "source": [
    "out = {}\n",
    "for tt, tidx in f2:\n",
    "    print(tt, tidx)\n",
    "    if tt in out:\n",
    "        out[tt].append(tidx)\n",
    "    else:\n",
    "        out[tt] = [tidx]"
   ]
  },
  {
   "cell_type": "code",
   "execution_count": 18,
   "metadata": {},
   "outputs": [
    {
     "data": {
      "text/plain": [
       "{'excavator': ['a01',\n",
       "  'b04a',\n",
       "  'b05a',\n",
       "  'b06c',\n",
       "  'c01a',\n",
       "  'c02a',\n",
       "  'c03a',\n",
       "  'c04a',\n",
       "  'c04d',\n",
       "  'c05a',\n",
       "  'c06e',\n",
       "  'c07a',\n",
       "  'c12c',\n",
       "  'c13c',\n",
       "  'c14a'],\n",
       " 'bulldozer': ['a02',\n",
       "  'a03',\n",
       "  'a07',\n",
       "  'a11',\n",
       "  'b01a',\n",
       "  'b04b',\n",
       "  'b08b',\n",
       "  'b08c',\n",
       "  'c02b',\n",
       "  'c03b',\n",
       "  'c05b',\n",
       "  'c13d'],\n",
       " 'clamp': ['a06', 'a09', 'b02b', 'b08a', 'c14b'],\n",
       " 'crane': ['a08', 'b05b', 'b06b', 'c01c', 'c06c', 'c08a', 'c12a'],\n",
       " 'garbage_truck': ['a10', 'a15', 'c07c', 'c08b', 'c10a'],\n",
       " 'dumper': ['a12',\n",
       "  'a13',\n",
       "  'a21',\n",
       "  'b02a',\n",
       "  'b05d',\n",
       "  'b06a',\n",
       "  'b08d',\n",
       "  'c01b',\n",
       "  'c03d',\n",
       "  'c06a',\n",
       "  'c09a',\n",
       "  'c10b',\n",
       "  'c12e',\n",
       "  'c13e'],\n",
       " 'transporter': ['a14', 'c08c', 'c09c'],\n",
       " 'ladder_truck': ['a16', 'a19', 'b03a', 'c06f', 'c07b', 'c12d'],\n",
       " 'fire_truck': ['a17', 'a18', 'a20', 'b03b'],\n",
       " 'car': ['a23', 'a24', 'a26', 'a31', 'c11a'],\n",
       " 'suv': ['a27', 'a28', 'a29', 'a30', 'c11b'],\n",
       " 'roller': ['b01b', 'b04d', 'c02c', 'c03f', 'c04c', 'c13a'],\n",
       " 'jackhammer': ['b04c', 'c03e', 'c04b', 'c13b'],\n",
       " 'cement_mixer': ['b05c', 'b06d', 'c01d', 'c03c', 'c06b'],\n",
       " 'water_tanker': ['c06d', 'c09b', 'c10c', 'c12b', 'c13f']}"
      ]
     },
     "execution_count": 18,
     "metadata": {},
     "output_type": "execute_result"
    }
   ],
   "source": [
    "out"
   ]
  },
  {
   "cell_type": "code",
   "execution_count": 20,
   "metadata": {},
   "outputs": [],
   "source": [
    "out_path = \"/media/hdd/usr/edo/egoProcel_mistakes/assets/toys.json\"\n",
    "with open(out_path, \"w\") as f:\n",
    "    json.dump(out, f)"
   ]
  }
 ],
 "metadata": {
  "kernelspec": {
   "display_name": "epic",
   "language": "python",
   "name": "python3"
  },
  "language_info": {
   "codemirror_mode": {
    "name": "ipython",
    "version": 3
   },
   "file_extension": ".py",
   "mimetype": "text/x-python",
   "name": "python",
   "nbconvert_exporter": "python",
   "pygments_lexer": "ipython3",
   "version": "3.9.16"
  }
 },
 "nbformat": 4,
 "nbformat_minor": 2
}
