{
 "cells": [
  {
   "cell_type": "code",
   "execution_count": 1,
   "metadata": {},
   "outputs": [],
   "source": [
    "from pathlib import Path\n",
    "import numpy as np\n",
    "import pandas as pd"
   ]
  },
  {
   "cell_type": "code",
   "execution_count": null,
   "metadata": {},
   "outputs": [],
   "source": [
    "annotations_dir = Path(\"/media/hdd/data/assembly101/data/annotations/\")\n",
    "coarse_dir = annotations_dir / \"coarse-annotations\"\n",
    "labels_dir = coarse_dir / \"coarse_labels\"\n",
    "splits_dir = coarse_dir / \"coarse_splits\"\n",
    "actions_file = coarse_dir / \"actions.csv\"\n",
    "coarse_seq_views = coarse_dir / \"coarse_seq_views.txt\"\n",
    "tail_actions = coarse_dir / \"tail_actions.txt\"\n",
    "\n",
    "train = splits_dir / \"train_coarse_assembly.txt\""
   ]
  },
  {
   "cell_type": "code",
   "execution_count": null,
   "metadata": {},
   "outputs": [],
   "source": [
    "# read lines in txt file\n",
    "files = []\n",
    "with open(train, \"r\") as f:\n",
    "    for line in f:\n",
    "        files.append(line.strip().split(\"\\t\")[0])"
   ]
  },
  {
   "cell_type": "code",
   "execution_count": null,
   "metadata": {},
   "outputs": [],
   "source": [
    "data = {}\n",
    "for file in files:\n",
    "    path = labels_dir / file\n",
    "\n",
    "    # load txt file\n",
    "    lines = []\n",
    "    with open(path, \"r\") as f:\n",
    "        for line in f:\n",
    "            lines.append(line.strip().split(\"\\t\")[-1])\n",
    "\n",
    "    # get sequence name\n",
    "    seq = file.split(\"_\", 1)[-1]\n",
    "    data[seq] = lines"
   ]
  },
  {
   "cell_type": "code",
   "execution_count": null,
   "metadata": {},
   "outputs": [],
   "source": [
    "len(data.keys())"
   ]
  },
  {
   "cell_type": "markdown",
   "metadata": {},
   "source": [
    "## Mistake labels"
   ]
  },
  {
   "cell_type": "code",
   "execution_count": 13,
   "metadata": {},
   "outputs": [],
   "source": [
    "path = Path(\"/media/hdd/usr/edo/egoProcel_mistakes/data/mistake_labels\")\n",
    "files = list(path.glob(\"*.csv\"))"
   ]
  },
  {
   "cell_type": "code",
   "execution_count": 14,
   "metadata": {},
   "outputs": [],
   "source": [
    "df = pd.read_csv(files[0])"
   ]
  },
  {
   "cell_type": "code",
   "execution_count": 17,
   "metadata": {},
   "outputs": [
    {
     "data": {
      "text/html": [
       "<div>\n",
       "<style scoped>\n",
       "    .dataframe tbody tr th:only-of-type {\n",
       "        vertical-align: middle;\n",
       "    }\n",
       "\n",
       "    .dataframe tbody tr th {\n",
       "        vertical-align: top;\n",
       "    }\n",
       "\n",
       "    .dataframe thead th {\n",
       "        text-align: right;\n",
       "    }\n",
       "</style>\n",
       "<table border=\"1\" class=\"dataframe\">\n",
       "  <thead>\n",
       "    <tr style=\"text-align: right;\">\n",
       "      <th></th>\n",
       "      <th>start_frame</th>\n",
       "      <th>end_frame</th>\n",
       "      <th>verb</th>\n",
       "      <th>this</th>\n",
       "      <th>that</th>\n",
       "      <th>label</th>\n",
       "      <th>remark</th>\n",
       "      <th>start_ts</th>\n",
       "      <th>end_ts</th>\n",
       "    </tr>\n",
       "  </thead>\n",
       "  <tbody>\n",
       "    <tr>\n",
       "      <th>0</th>\n",
       "      <td>5327</td>\n",
       "      <td>6551</td>\n",
       "      <td>attach</td>\n",
       "      <td>wheel</td>\n",
       "      <td>chassis</td>\n",
       "      <td>correct</td>\n",
       "      <td>NaN</td>\n",
       "      <td>00:02:57.000017</td>\n",
       "      <td>00:03:38.000011</td>\n",
       "    </tr>\n",
       "    <tr>\n",
       "      <th>1</th>\n",
       "      <td>6551</td>\n",
       "      <td>6760</td>\n",
       "      <td>attach</td>\n",
       "      <td>grill</td>\n",
       "      <td>cabin</td>\n",
       "      <td>correct</td>\n",
       "      <td>NaN</td>\n",
       "      <td>00:03:38.000011</td>\n",
       "      <td>00:03:45.000010</td>\n",
       "    </tr>\n",
       "    <tr>\n",
       "      <th>2</th>\n",
       "      <td>6760</td>\n",
       "      <td>7145</td>\n",
       "      <td>attach</td>\n",
       "      <td>bumper</td>\n",
       "      <td>grill</td>\n",
       "      <td>correct</td>\n",
       "      <td>NaN</td>\n",
       "      <td>00:03:45.000010</td>\n",
       "      <td>00:03:58.000005</td>\n",
       "    </tr>\n",
       "    <tr>\n",
       "      <th>3</th>\n",
       "      <td>7145</td>\n",
       "      <td>7526</td>\n",
       "      <td>attach</td>\n",
       "      <td>roof</td>\n",
       "      <td>cabin</td>\n",
       "      <td>correct</td>\n",
       "      <td>NaN</td>\n",
       "      <td>00:03:58.000005</td>\n",
       "      <td>00:04:10.000026</td>\n",
       "    </tr>\n",
       "    <tr>\n",
       "      <th>4</th>\n",
       "      <td>8523</td>\n",
       "      <td>8827</td>\n",
       "      <td>detach</td>\n",
       "      <td>wheel</td>\n",
       "      <td>chassis</td>\n",
       "      <td>mistake</td>\n",
       "      <td>shouldn't have happened</td>\n",
       "      <td>00:04:44.000003</td>\n",
       "      <td>00:04:54.000007</td>\n",
       "    </tr>\n",
       "  </tbody>\n",
       "</table>\n",
       "</div>"
      ],
      "text/plain": [
       "   start_frame  end_frame    verb    this     that    label  \\\n",
       "0         5327       6551  attach   wheel  chassis  correct   \n",
       "1         6551       6760  attach   grill    cabin  correct   \n",
       "2         6760       7145  attach  bumper    grill  correct   \n",
       "3         7145       7526  attach    roof    cabin  correct   \n",
       "4         8523       8827  detach   wheel  chassis  mistake   \n",
       "\n",
       "                    remark         start_ts           end_ts  \n",
       "0                      NaN  00:02:57.000017  00:03:38.000011  \n",
       "1                      NaN  00:03:38.000011  00:03:45.000010  \n",
       "2                      NaN  00:03:45.000010  00:03:58.000005  \n",
       "3                      NaN  00:03:58.000005  00:04:10.000026  \n",
       "4  shouldn't have happened  00:04:44.000003  00:04:54.000007  "
      ]
     },
     "execution_count": 17,
     "metadata": {},
     "output_type": "execute_result"
    }
   ],
   "source": [
    "df.head()"
   ]
  },
  {
   "cell_type": "code",
   "execution_count": 25,
   "metadata": {},
   "outputs": [],
   "source": [
    "# Assuming df is the pandas DataFrame containing the data\n",
    "concatenated = (\n",
    "    df[[\"verb\", \"this\", \"that\"]].apply(lambda x: \" \".join(x).strip(), axis=1).tolist()\n",
    ")"
   ]
  },
  {
   "cell_type": "code",
   "execution_count": 27,
   "metadata": {},
   "outputs": [
    {
     "data": {
      "text/plain": [
       "['attach wheel chassis',\n",
       " 'attach grill cabin',\n",
       " 'attach bumper grill',\n",
       " 'attach roof cabin',\n",
       " 'detach wheel chassis',\n",
       " 'attach cabin chassis',\n",
       " 'detach cabin chassis',\n",
       " 'attach cabin chassis',\n",
       " 'attach wheel chassis',\n",
       " 'attach base chassis',\n",
       " 'attach wheel chassis']"
      ]
     },
     "execution_count": 27,
     "metadata": {},
     "output_type": "execute_result"
    }
   ],
   "source": [
    "concatenated"
   ]
  },
  {
   "cell_type": "code",
   "execution_count": null,
   "metadata": {},
   "outputs": [],
   "source": []
  }
 ],
 "metadata": {
  "kernelspec": {
   "display_name": "epic",
   "language": "python",
   "name": "python3"
  },
  "language_info": {
   "codemirror_mode": {
    "name": "ipython",
    "version": 3
   },
   "file_extension": ".py",
   "mimetype": "text/x-python",
   "name": "python",
   "nbconvert_exporter": "python",
   "pygments_lexer": "ipython3",
   "version": "3.9.16"
  }
 },
 "nbformat": 4,
 "nbformat_minor": 2
}
